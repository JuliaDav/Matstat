{
 "cells": [
  {
   "cell_type": "code",
   "execution_count": 31,
   "metadata": {},
   "outputs": [],
   "source": [
    "import math\n",
    "import pandas as pd\n",
    "import numpy as np"
   ]
  },
  {
   "cell_type": "markdown",
   "metadata": {},
   "source": [
    "1. Даны значения зарплат из выборки выпускников: 100, 80, 75, 77, 89, 33, 45, 25, 65, 17, 30, 24, 57, 55, 70, 75, 65, 84, 90, 150. Посчитать (желательно без использования статистических методов наподобие std, var, mean) среднее арифметическое, среднее квадратичное отклонение, смещенную и несмещенную оценки дисперсий для данной выборки."
   ]
  },
  {
   "cell_type": "code",
   "execution_count": 39,
   "metadata": {},
   "outputs": [
    {
     "name": "stdout",
     "output_type": "stream",
     "text": [
      "Cреднее арифметическое 65.3, среднее квадратичное отклонение 30.823854398825596, смещенная и несмещенная оценки дисперсий 950.11 и 1000.1157894736842 соответственно\n"
     ]
    }
   ],
   "source": [
    "df = pd.DataFrame({\n",
    "'salary': [100, 80, 75, 77, 89, 33, 45, 25, 65, 17, 30, 24, 57, 55, 70, 75, 65, 84, 90, 150],\n",
    "})\n",
    "\n",
    "mean = df['salary'].sum() / df['salary'].count()\n",
    "std = np.sqrt(((df['salary'] - df['salary'].mean())**2).sum() / df['salary'].count())\n",
    "q = ((df['salary'] - df['salary'].mean())**2).sum() / df['salary'].count()\n",
    "q1 = ((df['salary'] - df['salary'].mean())**2).sum() / (df['salary'].count()-1)\n",
    "print(f'Cреднее арифметическое {mean}, среднее квадратичное отклонение {std}, смещенная и несмещенная оценки дисперсий {q} и {q1} соответственно')"
   ]
  },
  {
   "cell_type": "markdown",
   "metadata": {},
   "source": [
    "2. В первом ящике находится 8 мячей, из которых 5 - белые. Во втором ящике - 12 мячей, из которых 5 белых. Из первого ящика вытаскивают случайным образом два мяча, из второго - 4. Какова вероятность того, что 3 мяча белые? (Лучше решать через комбинаторику. Если решаете через условную вероятность ,пожалуйста,пересмотрите еще раз разбор аналогичной задачи с прошлого ДЗ в видео 3-го вебинара)"
   ]
  },
  {
   "cell_type": "code",
   "execution_count": 4,
   "metadata": {},
   "outputs": [
    {
     "name": "stdout",
     "output_type": "stream",
     "text": [
      "28.0 10.0 15.0 3.0\n"
     ]
    }
   ],
   "source": [
    "C1 = math.factorial(8)/(math.factorial(2)*math.factorial(6))\n",
    "C12 = math.factorial(5)/(math.factorial(2)*math.factorial(3))\n",
    "C11 = math.factorial(5)/(math.factorial(1)*math.factorial(4)) * math.factorial(3)/(math.factorial(1)*math.factorial(2))\n",
    "C10 = math.factorial(3)/(math.factorial(2)*math.factorial(1))\n",
    "print(C1,C12,C11,C10)"
   ]
  },
  {
   "cell_type": "code",
   "execution_count": 5,
   "metadata": {},
   "outputs": [
    {
     "name": "stdout",
     "output_type": "stream",
     "text": [
      "495.0 175.0 210.0 70.0\n"
     ]
    }
   ],
   "source": [
    "C2 = math.factorial(12)/(math.factorial(4)*math.factorial(8))\n",
    "C21 = math.factorial(5)/(math.factorial(1)*math.factorial(4)) * math.factorial(7)/(math.factorial(3)*math.factorial(4))\n",
    "C22 = math.factorial(5)/(math.factorial(2)*math.factorial(3)) * math.factorial(7)/(math.factorial(2)*math.factorial(5))\n",
    "C23 = math.factorial(5)/(math.factorial(3)*math.factorial(2)) * math.factorial(7)/(math.factorial(1)*math.factorial(6))\n",
    "print(C2,C21,C22,C23)"
   ]
  },
  {
   "cell_type": "code",
   "execution_count": 40,
   "metadata": {},
   "outputs": [
    {
     "name": "stdout",
     "output_type": "stream",
     "text": [
      "Вероятность, что три мяча белые = 0.3686868686868687\n"
     ]
    }
   ],
   "source": [
    "P = C12/C1 * C21/C2 + C11/C1 * C22/C2 + C10/C1 *C23/C2\n",
    "print(f'Вероятность, что три мяча белые = {P}')"
   ]
  },
  {
   "cell_type": "markdown",
   "metadata": {},
   "source": [
    "3. На соревновании по биатлону один из трех спортсменов стреляет и попадает в мишень. Вероятность попадания для первого спортсмена равна 0.9, для второго — 0.8, для третьего — 0.6. Найти вероятность того, что выстрел произведен: a). первым спортсменом б). вторым спортсменом в). третьим спортсменом."
   ]
  },
  {
   "cell_type": "code",
   "execution_count": 42,
   "metadata": {},
   "outputs": [
    {
     "name": "stdout",
     "output_type": "stream",
     "text": [
      "Вероятность того, что выстрел произведен: первым спортсменом = 0.391304347826087, вторым спортсменом 0.3478260869565218, третьим спортсменом 0.2608695652173913\n"
     ]
    }
   ],
   "source": [
    "Pa = 1/3 * 0.9 + 1/3 * 0.8 + 1/3 * 0.6\n",
    "P1 = 1/3 * 0.9 / Pa\n",
    "P2 = 1/3 * 0.8 / Pa\n",
    "P3 = 1/3 * 0.6 / Pa\n",
    "print(f'Вероятность того, что выстрел произведен: первым спортсменом = {P1}, вторым спортсменом {P2}, третьим спортсменом {P3}')"
   ]
  },
  {
   "cell_type": "markdown",
   "metadata": {},
   "source": [
    "4. В университет на факультеты A и B поступило равное количество студентов, а на факультет C студентов поступило столько же, сколько на A и B вместе. Вероятность того, что студент факультета A сдаст первую сессию, равна 0.8. Для студента факультета B эта вероятность равна 0.7, а для студента факультета C - 0.9. Студент сдал первую сессию. Какова вероятность, что он учится: a). на факультете A б). на факультете B в). на факультете C?"
   ]
  },
  {
   "cell_type": "code",
   "execution_count": 43,
   "metadata": {},
   "outputs": [
    {
     "name": "stdout",
     "output_type": "stream",
     "text": [
      "вероятность, что он учится: на факультете A = 0.24242424242424246, на факультете B 0.21212121212121213, на факультете C 0.5454545454545455\n"
     ]
    }
   ],
   "source": [
    "Pa = 1/4 * 0.8 + 1/4 * 0.7 + 1/2 * 0.9\n",
    "PA = 1/4 * 0.8 / Pa\n",
    "PB = 1/4 * 0.7 /Pa\n",
    "PC = 1/2 * 0.9 / Pa\n",
    "print(f'вероятность, что он учится: на факультете A = {PA}, на факультете B {PB}, на факультете C {PC}')"
   ]
  },
  {
   "cell_type": "markdown",
   "metadata": {},
   "source": [
    "5. Устройство состоит из трех деталей. Для первой детали вероятность выйти из строя в первый месяц равна 0.1, для второй - 0.2, для третьей - 0.25. Какова вероятность того, что в первый месяц выйдут из строя: а). все детали б). только две детали в). хотя бы одна деталь г). от одной до двух деталей?"
   ]
  },
  {
   "cell_type": "code",
   "execution_count": 19,
   "metadata": {},
   "outputs": [
    {
     "name": "stdout",
     "output_type": "stream",
     "text": [
      "Вероятность выхода из строя всех деталей 0.005000000000000001, выхода из строя двух деталей 0.08, выхода из строя одной, двух или трех деталей 0.4600000000000001,от одной до двух деталей 0.45500000000000007\n"
     ]
    }
   ],
   "source": [
    "P3 = 0.1 * 0.2 * 0.25 ## вероятность выхода из строя всех деталей\n",
    "P2 = 0.9 * 0.2 * 0.25 + 0.1 * 0.8 * 0.25 +  0.1 * 0.2 * 0.75 ## вероятность выхода из строя двух деталей\n",
    "P1 = 0.9 * 0.8 * 0.25 + 0.1 * 0.8 * 0.75 + 0.9 * 0.2 * 0.75 ## вероятность выхода из строя одной детали\n",
    "P11 = P1 + P2 + P3 ## вероятность выхода из строя одной, двух или трех деталей\n",
    "P12 = P1 + P2 ## вероятность выхода из строя одной или двух\n",
    "print(f'Вероятность выхода из строя всех деталей {P3}, выхода из строя двух деталей {P2}, выхода из строя одной, двух или трех деталей {P11},от одной до двух деталей {P12}')"
   ]
  },
  {
   "cell_type": "code",
   "execution_count": 20,
   "metadata": {},
   "outputs": [
    {
     "data": {
      "text/plain": [
       "0.37500000000000006"
      ]
     },
     "execution_count": 20,
     "metadata": {},
     "output_type": "execute_result"
    }
   ],
   "source": []
  },
  {
   "cell_type": "code",
   "execution_count": null,
   "metadata": {},
   "outputs": [],
   "source": []
  }
 ],
 "metadata": {
  "kernelspec": {
   "display_name": "Python 3",
   "language": "python",
   "name": "python3"
  },
  "language_info": {
   "codemirror_mode": {
    "name": "ipython",
    "version": 3
   },
   "file_extension": ".py",
   "mimetype": "text/x-python",
   "name": "python",
   "nbconvert_exporter": "python",
   "pygments_lexer": "ipython3",
   "version": "3.7.3"
  }
 },
 "nbformat": 4,
 "nbformat_minor": 2
}
